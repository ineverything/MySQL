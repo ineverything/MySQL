{
 "cells": [
  {
   "cell_type": "code",
   "execution_count": 31,
   "metadata": {},
   "outputs": [],
   "source": [
    "#创建数据库test\n",
    "import pymysql\n",
    "\n",
    "conn = pymysql.connect(  # 连接本地数据库\n",
    "    host=\"localhost\",\n",
    "    user=\"root\",\n",
    "    password=\"123456\", \n",
    "    charset=\"utf8\"\n",
    ")\n",
    "\n",
    "cursor = conn.cursor()\n",
    "cursor .execute(\"create database test character set utf8;\")\n",
    "# 执行完之后关闭游标和数据库连接\n",
    "cursor.close()\n",
    "conn.close()"
   ]
  },
  {
   "cell_type": "code",
   "execution_count": 32,
   "metadata": {
    "scrolled": true
   },
   "outputs": [
    {
     "data": {
      "text/plain": [
       "0"
      ]
     },
     "execution_count": 32,
     "metadata": {},
     "output_type": "execute_result"
    }
   ],
   "source": [
    "#创建表\n",
    "import pymysql \n",
    "conn = pymysql.connect(  # 连接本地数据库\n",
    "    host=\"localhost\",\n",
    "    user=\"root\",\n",
    "    password=\"123456\",\n",
    "    database = \"test\",\n",
    "    charset=\"utf8\"\n",
    ")\n",
    " \n",
    "cursor = conn.cursor() # 创建一个游标\n",
    "\n",
    "sql = \"\"\"\n",
    "create table information(\n",
    "id int auto_increment primary key ,\n",
    "name VARCHAR(255) not null ,\n",
    "job VARCHAR(255) not null \n",
    ");\n",
    "\"\"\"\n",
    "\n",
    "cursor.execute(sql) # 使用游标执行sql"
   ]
  },
  {
   "cell_type": "code",
   "execution_count": 33,
   "metadata": {},
   "outputs": [],
   "source": [
    "#插入数据,一次多条\n",
    "data = [\n",
    "    ('张三', '老师'),\n",
    "    ('李四', '学生'),\n",
    "    ('王五', '程序员'),\n",
    "]\n",
    "cursor.executemany('insert into information(name,job) values(%s, %s);', data)\n",
    "conn.commit()"
   ]
  },
  {
   "cell_type": "markdown",
   "metadata": {},
   "source": [
    "插入一条数据：第一种写法是先用字符串利用%s占位生成一条完整的sql语句，然后去执行。\n",
    "其实，pymysql的游标也自带这一功能，而且看起来更加方便，这种方法的好处是sql语句中的%s不需要加引号\n",
    "（如果加了引号，引号也会被当做数据插入到数据表中），游标执行这一语句时，会根据数据类型来判断是否要加上引号。"
   ]
  },
  {
   "cell_type": "code",
   "execution_count": 34,
   "metadata": {},
   "outputs": [],
   "source": [
    "#插入数据，一次一条\n",
    "cursor.execute('insert into information(name,job) values(\"%s\", \"%s\");' % ('李六', '律师'))\n",
    "cursor.execute('insert into information(name,job) values(%s, %s);', ('李六', '律师'))\n",
    "\n",
    "conn.commit()"
   ]
  },
  {
   "cell_type": "code",
   "execution_count": 35,
   "metadata": {},
   "outputs": [],
   "source": [
    "#更新\n",
    "cursor.execute('update information set job=%s where name=%s;', [\"医生\", \"李六\"])\n",
    "conn.commit()"
   ]
  },
  {
   "cell_type": "markdown",
   "metadata": {},
   "source": [
    "插入、更新、删除操作必须再执行commit操作之后才会生效，而查询操作也只有在执行fetch操作之后才会生效。\n",
    "fetch操作包括3个方法，分别是fetchone()、fetchall()、fetchmany()。"
   ]
  },
  {
   "cell_type": "code",
   "execution_count": 36,
   "metadata": {},
   "outputs": [
    {
     "name": "stdout",
     "output_type": "stream",
     "text": [
      "((1, '张三', '老师'), (2, '李四', '学生'), (3, '王五', '程序员'), (4, '李六', '医生'), (5, '李六', '医生'))\n",
      "((1, '张三', '老师'), (2, '李四', '学生'))\n",
      "(1, '张三', '老师')\n"
     ]
    }
   ],
   "source": [
    "#fetchall()：查询指定的所有记录\n",
    "cursor.execute('select * from information where id < %s;', [6])\n",
    "result1 = cursor.fetchall()\n",
    "print(result1)\n",
    "\n",
    "#fetchmany(size)：查询指定数量的记录,取出符合查询条件的最前面的指定数量记录。这里的size指的就是想要取出的记录条数。\n",
    "cursor.execute('select * from information where id < %s;', [4])\n",
    "result2 = cursor.fetchmany(2)\n",
    "print(result2)\n",
    "\n",
    "#fetchone()：取出第一条记录\n",
    "cursor.execute('select * from information where id < %s;', [4])\n",
    "result3 = cursor.fetchone()\n",
    "print(result3)"
   ]
  },
  {
   "cell_type": "code",
   "execution_count": 37,
   "metadata": {},
   "outputs": [],
   "source": [
    "#删除一条\n",
    "cursor.execute('delete from information where id=%s;', [1])\n",
    "conn.commit()\n",
    "#删除多条\n",
    "cursor.executemany('delete from information where id=%s;', [[2], [4]])\n",
    "conn.commit()"
   ]
  },
  {
   "cell_type": "markdown",
   "metadata": {},
   "source": [
    "游标\n",
    "Cursor返回的数据是以元组的方式保存，\n",
    "DictCursor是以字典的形式保存，在conn.sursor()方法中传入DictCursor这个类即可。"
   ]
  },
  {
   "cell_type": "code",
   "execution_count": 39,
   "metadata": {},
   "outputs": [
    {
     "name": "stdout",
     "output_type": "stream",
     "text": [
      "[{'id': 3, 'name': '王五', 'job': '程序员'}]\n",
      "{'id': 3, 'name': '王五', 'job': '程序员'}\n"
     ]
    }
   ],
   "source": [
    "cursor = conn.cursor(pymysql.cursors.DictCursor) # 创建一个字典游标\n",
    "cursor.execute('select * from information where id < %s;', [5])\n",
    "result4 = cursor.fetchall()#所有\n",
    "print(result4)\n",
    "\n",
    "cursor.execute('select * from information where id < %s;', [5])\n",
    "result5 = cursor.fetchone()#第一个\n",
    "print(result5)"
   ]
  },
  {
   "cell_type": "code",
   "execution_count": 40,
   "metadata": {},
   "outputs": [],
   "source": [
    "# 执行完之后别忘了关闭游标和数据库连接\n",
    "cursor.close()\n",
    "conn.close()\n"
   ]
  },
  {
   "cell_type": "raw",
   "metadata": {},
   "source": [
    "流式游标：SSCursor和SSDictCursor，这类游标不会像上面使用的Cursor和DictCursor那样，一次性返回所有的数据，流式游标会陆陆续续一条一条得返回查询数据，所以这类游标适用于内存低、网络带宽小、数据量大的应用场景中。\n",
    "流式游标的使用方法类似于迭代器，再循环中每取一条，生成一条\n",
    "\n",
    "注意：流式游标虽然也有fetchall()方法，调用后的结果与普通游标一样返回所有数据，但是最好别去调用，这样会失去流式游标的优势。使用流式游标时，如果数据量很大，导致游标一直处在循环遍历状态，这时，数据库连接（conn）是被占用的，不能再被用于执行其他sql，如果要执行其他sql那就必须再创建一个数据库连接，游标占用数据库连接的时长是有限制的，如果流式游标一直在遍历，60秒后数据库连接会断开，不过可以在创建数据库连接时传入参数init_command=(\"SET NET_WRITE_TIMEOUT=XX\")来设置这个超时时间。\n",
    "SSCursor与SSDictCursor的区别就类似于Cursor和DictCursor的区别"
   ]
  }
 ],
 "metadata": {
  "kernelspec": {
   "display_name": "Python 3",
   "language": "python",
   "name": "python3"
  },
  "language_info": {
   "codemirror_mode": {
    "name": "ipython",
    "version": 3
   },
   "file_extension": ".py",
   "mimetype": "text/x-python",
   "name": "python",
   "nbconvert_exporter": "python",
   "pygments_lexer": "ipython3",
   "version": "3.7.6"
  }
 },
 "nbformat": 4,
 "nbformat_minor": 4
}
